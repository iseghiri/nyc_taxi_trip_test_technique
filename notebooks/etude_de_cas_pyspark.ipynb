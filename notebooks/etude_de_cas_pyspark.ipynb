{
 "cells": [
  {
   "cell_type": "code",
   "execution_count": 1,
   "metadata": {},
   "outputs": [],
   "source": [
    "import pandas as pd \n",
    "datas_py = pd.read_csv(\"../src/data/train.csv\")"
   ]
  },
  {
   "cell_type": "code",
   "execution_count": 2,
   "metadata": {},
   "outputs": [
    {
     "data": {
      "text/html": [
       "<div>\n",
       "<style scoped>\n",
       "    .dataframe tbody tr th:only-of-type {\n",
       "        vertical-align: middle;\n",
       "    }\n",
       "\n",
       "    .dataframe tbody tr th {\n",
       "        vertical-align: top;\n",
       "    }\n",
       "\n",
       "    .dataframe thead th {\n",
       "        text-align: right;\n",
       "    }\n",
       "</style>\n",
       "<table border=\"1\" class=\"dataframe\">\n",
       "  <thead>\n",
       "    <tr style=\"text-align: right;\">\n",
       "      <th></th>\n",
       "      <th>id</th>\n",
       "      <th>vendor_id</th>\n",
       "      <th>pickup_datetime</th>\n",
       "      <th>dropoff_datetime</th>\n",
       "      <th>passenger_count</th>\n",
       "      <th>pickup_longitude</th>\n",
       "      <th>pickup_latitude</th>\n",
       "      <th>dropoff_longitude</th>\n",
       "      <th>dropoff_latitude</th>\n",
       "      <th>store_and_fwd_flag</th>\n",
       "      <th>trip_duration</th>\n",
       "    </tr>\n",
       "  </thead>\n",
       "  <tbody>\n",
       "    <tr>\n",
       "      <th>0</th>\n",
       "      <td>id2875421</td>\n",
       "      <td>2</td>\n",
       "      <td>2016-03-14 17:24:55</td>\n",
       "      <td>2016-03-14 17:32:30</td>\n",
       "      <td>1</td>\n",
       "      <td>-73.982155</td>\n",
       "      <td>40.767937</td>\n",
       "      <td>-73.964630</td>\n",
       "      <td>40.765602</td>\n",
       "      <td>N</td>\n",
       "      <td>455</td>\n",
       "    </tr>\n",
       "    <tr>\n",
       "      <th>1</th>\n",
       "      <td>id2377394</td>\n",
       "      <td>1</td>\n",
       "      <td>2016-06-12 00:43:35</td>\n",
       "      <td>2016-06-12 00:54:38</td>\n",
       "      <td>1</td>\n",
       "      <td>-73.980415</td>\n",
       "      <td>40.738564</td>\n",
       "      <td>-73.999481</td>\n",
       "      <td>40.731152</td>\n",
       "      <td>N</td>\n",
       "      <td>663</td>\n",
       "    </tr>\n",
       "    <tr>\n",
       "      <th>2</th>\n",
       "      <td>id3858529</td>\n",
       "      <td>2</td>\n",
       "      <td>2016-01-19 11:35:24</td>\n",
       "      <td>2016-01-19 12:10:48</td>\n",
       "      <td>1</td>\n",
       "      <td>-73.979027</td>\n",
       "      <td>40.763939</td>\n",
       "      <td>-74.005333</td>\n",
       "      <td>40.710087</td>\n",
       "      <td>N</td>\n",
       "      <td>2124</td>\n",
       "    </tr>\n",
       "    <tr>\n",
       "      <th>3</th>\n",
       "      <td>id3504673</td>\n",
       "      <td>2</td>\n",
       "      <td>2016-04-06 19:32:31</td>\n",
       "      <td>2016-04-06 19:39:40</td>\n",
       "      <td>1</td>\n",
       "      <td>-74.010040</td>\n",
       "      <td>40.719971</td>\n",
       "      <td>-74.012268</td>\n",
       "      <td>40.706718</td>\n",
       "      <td>N</td>\n",
       "      <td>429</td>\n",
       "    </tr>\n",
       "    <tr>\n",
       "      <th>4</th>\n",
       "      <td>id2181028</td>\n",
       "      <td>2</td>\n",
       "      <td>2016-03-26 13:30:55</td>\n",
       "      <td>2016-03-26 13:38:10</td>\n",
       "      <td>1</td>\n",
       "      <td>-73.973053</td>\n",
       "      <td>40.793209</td>\n",
       "      <td>-73.972923</td>\n",
       "      <td>40.782520</td>\n",
       "      <td>N</td>\n",
       "      <td>435</td>\n",
       "    </tr>\n",
       "  </tbody>\n",
       "</table>\n",
       "</div>"
      ],
      "text/plain": [
       "          id  vendor_id      pickup_datetime     dropoff_datetime  \\\n",
       "0  id2875421          2  2016-03-14 17:24:55  2016-03-14 17:32:30   \n",
       "1  id2377394          1  2016-06-12 00:43:35  2016-06-12 00:54:38   \n",
       "2  id3858529          2  2016-01-19 11:35:24  2016-01-19 12:10:48   \n",
       "3  id3504673          2  2016-04-06 19:32:31  2016-04-06 19:39:40   \n",
       "4  id2181028          2  2016-03-26 13:30:55  2016-03-26 13:38:10   \n",
       "\n",
       "   passenger_count  pickup_longitude  pickup_latitude  dropoff_longitude  \\\n",
       "0                1        -73.982155        40.767937         -73.964630   \n",
       "1                1        -73.980415        40.738564         -73.999481   \n",
       "2                1        -73.979027        40.763939         -74.005333   \n",
       "3                1        -74.010040        40.719971         -74.012268   \n",
       "4                1        -73.973053        40.793209         -73.972923   \n",
       "\n",
       "   dropoff_latitude store_and_fwd_flag  trip_duration  \n",
       "0         40.765602                  N            455  \n",
       "1         40.731152                  N            663  \n",
       "2         40.710087                  N           2124  \n",
       "3         40.706718                  N            429  \n",
       "4         40.782520                  N            435  "
      ]
     },
     "execution_count": 2,
     "metadata": {},
     "output_type": "execute_result"
    }
   ],
   "source": [
    "datas_py.head() #1 458 645 lignes"
   ]
  },
  {
   "cell_type": "code",
   "execution_count": 3,
   "metadata": {},
   "outputs": [],
   "source": [
    "try:\n",
    "    import pyspark\n",
    "except:\n",
    "    import findspark\n",
    "    findspark.init()\n",
    "    import pyspark"
   ]
  },
  {
   "cell_type": "code",
   "execution_count": 4,
   "metadata": {},
   "outputs": [],
   "source": [
    "from pyspark.sql import SparkSession\n",
    "spark = SparkSession.builder.appName('taxi_trip').getOrCreate()"
   ]
  },
  {
   "cell_type": "code",
   "execution_count": 5,
   "metadata": {},
   "outputs": [],
   "source": [
    "df = spark \\\n",
    "    .read \\\n",
    "    .format(\"csv\") \\\n",
    "    .option(\"header\", \"true\") \\\n",
    "    .load(\"../src/data/train.csv\")"
   ]
  },
  {
   "cell_type": "markdown",
   "metadata": {},
   "source": [
    "# Vitesse de chaque trajet \n",
    "\n",
    "J'utilise ici la formule de Haversine pour cacluler la distance en km entre un point A et un point B.\n",
    "$$a = sin^2(\\frac{lat_B-lat_A}{2})+ cos(lat_A)*cos(lat_B)*sin^2(\\frac{long_B-long_A}{2})$$\n",
    "$$d=2*r*arcsin(\\sqrt{a})$$\n",
    "\n",
    "avec r le rayon de la sphère sur laquelle sont placés les points. On considérera ici la terre comme sphérique, ce qui donne de bon résultat en pratique.\n",
    "D'après la formule de wikipédia : https://en.wikipedia.org/wiki/Haversine_formula\n",
    "\n",
    "\n",
    "On sait ensuite que :\n",
    "$$vitesse = \\frac{distance}{temps}$$\n",
    "\n",
    "On aura obtiendra donc ici la vitesse moyenne du trajet en km/seconde, ce qui est une unité peu parlante mais qui permettra de comparer les trajets entre eux. On pourra par exemple voir qui sont les taxis ayant une vitesse moyenne plus rapide que les autres. Si nécessaire on peut ensuite adapter l'unité."
   ]
  },
  {
   "cell_type": "code",
   "execution_count": 6,
   "metadata": {},
   "outputs": [],
   "source": [
    "from math import radians,sin,cos\n",
    "from pyspark.sql.functions import *"
   ]
  },
  {
   "cell_type": "code",
   "execution_count": 7,
   "metadata": {},
   "outputs": [],
   "source": [
    "r = 6371\n",
    "df_with_speed = df \\\n",
    "    .withColumn(\"a\", pow(sin(radians(col(\"dropoff_latitude\") - col(\"pickup_latitude\")) / 2), 2) + cos(radians(col(\"pickup_latitude\"))) * cos(radians(col(\"dropoff_latitude\"))) * pow(sin(radians(col(\"dropoff_longitude\") - col(\"pickup_longitude\")) / 2), 2)) \\\n",
    "    .withColumn(\"distance\", asin(sqrt(col(\"a\"))) * 2 * r) \\\n",
    "    .withColumn(\"speed\",col(\"distance\") / col(\"trip_duration\"))"
   ]
  },
  {
   "cell_type": "code",
   "execution_count": 8,
   "metadata": {},
   "outputs": [
    {
     "data": {
      "text/plain": [
       "[Row(id='id2875421', vendor_id='2', pickup_datetime='2016-03-14 17:24:55', dropoff_datetime='2016-03-14 17:32:30', passenger_count='1', pickup_longitude='-73.982154846191406', pickup_latitude='40.767936706542969', dropoff_longitude='-73.964630126953125', dropoff_latitude='40.765602111816406', store_and_fwd_flag='N', trip_duration='455', a=1.3830896636179652e-08, distance=1.498520779647477, speed=0.003293452262961488),\n",
       " Row(id='id2377394', vendor_id='1', pickup_datetime='2016-06-12 00:43:35', dropoff_datetime='2016-06-12 00:54:38', passenger_count='1', pickup_longitude='-73.980415344238281', pickup_latitude='40.738563537597656', dropoff_longitude='-73.999481201171875', dropoff_latitude='40.731151580810547', store_and_fwd_flag='N', trip_duration='663', a=2.0078128522717423e-08, distance=1.805507168795824, speed=0.002723238565302902),\n",
       " Row(id='id3858529', vendor_id='2', pickup_datetime='2016-01-19 11:35:24', dropoff_datetime='2016-01-19 12:10:48', passenger_count='1', pickup_longitude='-73.979026794433594', pickup_latitude='40.763938903808594', dropoff_longitude='-74.005332946777344', dropoff_latitude='40.710086822509766', store_and_fwd_flag='N', trip_duration='2124', a=2.511076618143245e-07, distance=6.385098495252941, speed=0.0030061668998366013),\n",
       " Row(id='id3504673', vendor_id='2', pickup_datetime='2016-04-06 19:32:31', dropoff_datetime='2016-04-06 19:39:40', passenger_count='1', pickup_longitude='-74.010040283203125', pickup_latitude='40.719970703125', dropoff_longitude='-74.01226806640625', dropoff_latitude='40.706718444824219', store_and_fwd_flag='N', trip_duration='429', a=1.359155624250055e-08, distance=1.485498422771006, speed=0.003462700286179501),\n",
       " Row(id='id2181028', vendor_id='2', pickup_datetime='2016-03-26 13:30:55', dropoff_datetime='2016-03-26 13:38:10', passenger_count='1', pickup_longitude='-73.973052978515625', pickup_latitude='40.793209075927734', dropoff_longitude='-73.972923278808594', dropoff_latitude='40.782520294189453', store_and_fwd_flag='N', trip_duration='435', a=8.701373594095704e-09, distance=1.188588459334221, speed=0.00273238726283729)]"
      ]
     },
     "execution_count": 8,
     "metadata": {},
     "output_type": "execute_result"
    }
   ],
   "source": [
    "df_with_speed.take(5)"
   ]
  },
  {
   "cell_type": "markdown",
   "metadata": {},
   "source": [
    "# Nombre de trajets effectués en fonction du jour de la semaine"
   ]
  },
  {
   "cell_type": "code",
   "execution_count": 9,
   "metadata": {},
   "outputs": [],
   "source": [
    "df_with_day_of_week = df \\\n",
    "    .withColumn(\"pickup_datetime\",to_timestamp(col(\"pickup_datetime\"))) \\\n",
    "    .withColumn(\"week_day_number\", date_format(col(\"pickup_datetime\"), \"u\")) \\\n",
    "    .withColumn(\"week_day\", date_format(col(\"pickup_datetime\"), \"E\")) \\"
   ]
  },
  {
   "cell_type": "code",
   "execution_count": 10,
   "metadata": {},
   "outputs": [],
   "source": [
    "df_with_trajet_par_jour = df_with_day_of_week.rdd \\\n",
    "    .map(lambda x : (x.week_day,1)) \\\n",
    "    .reduceByKey(lambda x,y: x + y)"
   ]
  },
  {
   "cell_type": "code",
   "execution_count": 11,
   "metadata": {},
   "outputs": [
    {
     "data": {
      "text/plain": [
       "[('Wed', 210136),\n",
       " ('Mon', 187418),\n",
       " ('Fri', 223533),\n",
       " ('Thu', 218574),\n",
       " ('Tue', 202749),\n",
       " ('Sun', 195366),\n",
       " ('Sat', 220868)]"
      ]
     },
     "execution_count": 11,
     "metadata": {},
     "output_type": "execute_result"
    }
   ],
   "source": [
    "df_with_trajet_par_jour.collect()"
   ]
  },
  {
   "cell_type": "markdown",
   "metadata": {},
   "source": [
    "On utilise ensuite la méthode du MapReduce pour calculer le nombre de trajet en fonction du jour de la semaine.\n",
    "Pourquoi utiliser le MapReduce avec le `reduceByKey` et non pas le `groupByKey`.\n",
    "Lorsque le montant de données est élévé, `groupByKey` est moins performant que `reduceByKey`. Voyons pourquoi.\n",
    "\n",
    "\n",
    "Lorsqu'on utilise les RDD, chaque morceau de rdd est appelé partition. Chaque partition appartient à un executeur.\n",
    "`groupByKey` va chercher à regrouper les clés identiques dans la même partitition pour ensuite faire le traitement.\n",
    "Il y a deux conséquences à cela :\n",
    "\n",
    "- Cela produit un shuffle assez important des données car il doit le faire pour chaque donnée de chaque partition du RDD. Donc, si les partitions ne sont pas sur une même machine, cela provoque un gros trafic réseau.\n",
    "- Si dans notre exemple les trajets avaient lieu à 99% le samedi, groupByKey rassemblera toutes les données ayant comme clé \"samedi\" dans une seule machine, ce qui peut causer des problèmes de mémoire.\n",
    "\n",
    "Pour `reduceByKey`cela se passe autrement. Il y a d'abord un prétraitement dans chaque partition. Ensuite les nouvelles clé/valeur sont déplacées dans les partitions selon leur clé pour avoir leur traitement final.\n",
    "La quantité de données est donc moins élevée, réduisant ainsi le temps de traitement."
   ]
  },
  {
   "cell_type": "markdown",
   "metadata": {},
   "source": [
    "# Nombre de trajets effectués en fonction de la tranche horaire\n",
    "\n",
    "\n",
    "on divisera les tranche horaire en fonction de l'heure de départ du taxi : \n",
    "- 00:00 - 04:00 -> tranche horaire 1\n",
    "- 04:00 - 08:00 -> tranche horaire 2 \n",
    "- 08:00 - 12:00 -> tranche horaire 3\n",
    "- 12:00 - 16:00 -> tranche horaire 4\n",
    "- 16:00 - 20:00 -> tranche horaire 5\n",
    "- 20:00 - 23:59 -> tranche horaire 6\n",
    "\n",
    "\n",
    "\n"
   ]
  },
  {
   "cell_type": "code",
   "execution_count": 12,
   "metadata": {},
   "outputs": [],
   "source": [
    "df_with_time_slice = df \\\n",
    "    .withColumn(\"pickup_datetime\",to_timestamp(col(\"pickup_datetime\"))) \\\n",
    "    .withColumn(\"hour_pickup\", date_format(col(\"pickup_datetime\"), \"hh:mm\")) \\"
   ]
  },
  {
   "cell_type": "code",
   "execution_count": 13,
   "metadata": {},
   "outputs": [
    {
     "data": {
      "text/plain": [
       "[Row(id='id2875421', vendor_id='2', pickup_datetime=datetime.datetime(2016, 3, 14, 17, 24, 55), dropoff_datetime='2016-03-14 17:32:30', passenger_count='1', pickup_longitude='-73.982154846191406', pickup_latitude='40.767936706542969', dropoff_longitude='-73.964630126953125', dropoff_latitude='40.765602111816406', store_and_fwd_flag='N', trip_duration='455', hour_pickup='05:24')]"
      ]
     },
     "execution_count": 13,
     "metadata": {},
     "output_type": "execute_result"
    }
   ],
   "source": [
    "df_with_time_slice.take(1)"
   ]
  },
  {
   "cell_type": "code",
   "execution_count": 14,
   "metadata": {},
   "outputs": [
    {
     "data": {
      "text/plain": [
       "True"
      ]
     },
     "execution_count": 14,
     "metadata": {},
     "output_type": "execute_result"
    }
   ],
   "source": [
    "\"00:00\"<=\"03:00\"<\"04:00\""
   ]
  },
  {
   "cell_type": "code",
   "execution_count": 15,
   "metadata": {},
   "outputs": [],
   "source": [
    "time_slice_column = when((\"00:00\"<=col(\"hour_pickup\")) & (col(\"hour_pickup\")<\"04:00\"), \"slice_1\") \\\n",
    "    .when((\"04:00\"<=col(\"hour_pickup\")) & (col(\"hour_pickup\")<\"08:00\"), \"slice_2\")\\\n",
    "    .when((\"08:00\"<=col(\"hour_pickup\")) & (col(\"hour_pickup\")<\"12:00\"), \"slice_3\")\\\n",
    "    .when((\"12:00\"<=col(\"hour_pickup\")) & (col(\"hour_pickup\")<\"16:00\"), \"slice_4\")\\\n",
    "    .when((\"16:00\"<=col(\"hour_pickup\")) & (col(\"hour_pickup\")<\"20:00\"), \"slice_5\")\\\n",
    "    .when((\"20:00\"<=col(\"hour_pickup\")) & (col(\"hour_pickup\")<=\"23:59\"), \"slice_6\")\\\n",
    "    .otherwise(\"slice_unknown\")"
   ]
  },
  {
   "cell_type": "code",
   "execution_count": 16,
   "metadata": {},
   "outputs": [],
   "source": [
    "df_with_time_slice = df_with_time_slice.withColumn(\"time_slice\",time_slice_column)"
   ]
  },
  {
   "cell_type": "code",
   "execution_count": 17,
   "metadata": {},
   "outputs": [],
   "source": [
    "df_with_trip_per_time_slice = df_with_time_slice.rdd.map(lambda x : (x.time_slice,1)) \\\n",
    "    .reduceByKey(lambda x,y: x + y)"
   ]
  },
  {
   "cell_type": "code",
   "execution_count": 18,
   "metadata": {},
   "outputs": [
    {
     "data": {
      "text/plain": [
       "[('slice_2', 441346),\n",
       " ('slice_3', 587163),\n",
       " ('slice_1', 305014),\n",
       " ('slice_4', 125121)]"
      ]
     },
     "execution_count": 18,
     "metadata": {},
     "output_type": "execute_result"
    }
   ],
   "source": [
    "df_with_trip_per_time_slice.collect()"
   ]
  },
  {
   "cell_type": "markdown",
   "metadata": {},
   "source": [
    "# Nombre de km par jour de la semaine "
   ]
  },
  {
   "cell_type": "code",
   "execution_count": 19,
   "metadata": {},
   "outputs": [],
   "source": [
    "df_with_distance_day_of_week = df \\\n",
    "    .withColumn(\"a\", pow(sin(radians(col(\"dropoff_latitude\") - col(\"pickup_latitude\")) / 2), 2) + cos(radians(col(\"pickup_latitude\"))) * cos(radians(col(\"dropoff_latitude\"))) * pow(sin(radians(col(\"dropoff_longitude\") - col(\"pickup_longitude\")) / 2), 2)) \\\n",
    "    .withColumn(\"distance\", asin(sqrt(col(\"a\"))) * 2 * r) \\\n",
    "    .withColumn(\"pickup_datetime\",to_timestamp(col(\"pickup_datetime\"))) \\\n",
    "    .withColumn(\"week_day_number\", date_format(col(\"pickup_datetime\"), \"u\")) \\\n",
    "    .withColumn(\"week_day\", date_format(col(\"pickup_datetime\"), \"E\")) \\"
   ]
  },
  {
   "cell_type": "code",
   "execution_count": 20,
   "metadata": {},
   "outputs": [],
   "source": [
    "df_with_km_per_time_slice = df_with_distance_day_of_week.rdd.map(lambda x : (x.week_day,x.distance)) \\\n",
    "    .reduceByKey(lambda x,y: x + y)"
   ]
  },
  {
   "cell_type": "code",
   "execution_count": 21,
   "metadata": {},
   "outputs": [
    {
     "data": {
      "text/plain": [
       "[('Wed', 702918.7950886373),\n",
       " ('Mon', 668482.1133133217),\n",
       " ('Fri', 758724.4713666884),\n",
       " ('Thu', 747677.6291327236),\n",
       " ('Tue', 678328.0950559068),\n",
       " ('Sun', 726453.2498305361),\n",
       " ('Sat', 736411.1316969573)]"
      ]
     },
     "execution_count": 21,
     "metadata": {},
     "output_type": "execute_result"
    }
   ],
   "source": [
    "df_with_km_per_time_slice.collect()"
   ]
  },
  {
   "cell_type": "code",
   "execution_count": 22,
   "metadata": {},
   "outputs": [],
   "source": [
    "spark.stop()"
   ]
  }
 ],
 "metadata": {
  "kernelspec": {
   "display_name": "Python 3",
   "language": "python",
   "name": "python3"
  },
  "language_info": {
   "codemirror_mode": {
    "name": "ipython",
    "version": 3
   },
   "file_extension": ".py",
   "mimetype": "text/x-python",
   "name": "python",
   "nbconvert_exporter": "python",
   "pygments_lexer": "ipython3",
   "version": "3.7.3"
  }
 },
 "nbformat": 4,
 "nbformat_minor": 2
}
